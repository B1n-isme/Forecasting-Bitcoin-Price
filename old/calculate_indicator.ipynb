{
 "cells": [
  {
   "cell_type": "code",
   "execution_count": 19,
   "metadata": {},
   "outputs": [],
   "source": [
    "import pandas as pd\n",
    "from ta import add_all_ta_features\n",
    "from ta.trend import SMAIndicator, EMAIndicator, MACD\n",
    "from ta.momentum import RSIIndicator\n",
    "from ta.volatility import BollingerBands, AverageTrueRange"
   ]
  },
  {
   "cell_type": "code",
   "execution_count": null,
   "metadata": {},
   "outputs": [],
   "source": [
    "import yfinance as yf\n",
    "\n",
    "# Initialize the Ticker for Bitcoin in USD\n",
    "btc = yf.Ticker(\"BTC-USD\")\n",
    "\n",
    "# Retrieve general information\n",
    "info = btc.info\n",
    "print(\"Info:\", info)\n",
    "\n",
    "# Retrieve historical market data for the past 1 year\n",
    "hist = btc.history(period=\"10y\")\n",
    "print(\"Historical Market Data:\", hist)\n",
    "\n",
    "# Save historical data to CSV\n",
    "hist.to_csv(\"../data/raw/historical_data.csv\")"
   ]
  },
  {
   "cell_type": "code",
   "execution_count": 20,
   "metadata": {},
   "outputs": [],
   "source": [
    "df = pd.read_csv(\"../data/raw/historical_data.csv\", parse_dates=['Date'])\n",
    "df.set_index('Date', inplace=True)"
   ]
  },
  {
   "cell_type": "code",
   "execution_count": 21,
   "metadata": {},
   "outputs": [],
   "source": [
    "data = pd.DataFrame()"
   ]
  },
  {
   "cell_type": "code",
   "execution_count": null,
   "metadata": {},
   "outputs": [],
   "source": [
    "data['btc_close'] = df['Close']"
   ]
  },
  {
   "cell_type": "code",
   "execution_count": null,
   "metadata": {},
   "outputs": [],
   "source": [
    "data['btc_sma_14'] = SMAIndicator(close=df['Close'], window=14).sma_indicator()"
   ]
  },
  {
   "cell_type": "code",
   "execution_count": null,
   "metadata": {},
   "outputs": [],
   "source": [
    "data['btc_ema_14'] = EMAIndicator(close=df['Close'], window=14).ema_indicator()"
   ]
  },
  {
   "cell_type": "code",
   "execution_count": null,
   "metadata": {},
   "outputs": [],
   "source": [
    "data['btc_rsi_14'] = RSIIndicator(close=df['Close'], window=14).rsi()"
   ]
  },
  {
   "cell_type": "code",
   "execution_count": null,
   "metadata": {},
   "outputs": [],
   "source": [
    "macd = MACD(close=df['Close'])\n",
    "data['btc_macd'] = macd.macd()\n",
    "data['btc_macd_signal'] = macd.macd_signal()\n",
    "data['btc_macd_diff'] = macd.macd_diff()"
   ]
  },
  {
   "cell_type": "code",
   "execution_count": null,
   "metadata": {},
   "outputs": [],
   "source": [
    "bb = BollingerBands(close=df['Close'], window=20, window_dev=2)\n",
    "data['btc_bb_high'] = bb.bollinger_hband()\n",
    "data['btc_bb_low'] = bb.bollinger_lband()\n",
    "data['btc_bb_mid'] = bb.bollinger_mavg()\n",
    "data['btc_bb_width'] = bb.bollinger_wband()"
   ]
  },
  {
   "cell_type": "code",
   "execution_count": null,
   "metadata": {},
   "outputs": [],
   "source": [
    "data['btc_atr_14'] = AverageTrueRange(high=df['High'], low=df['Low'], close=df['Close'], window=14).average_true_range()"
   ]
  },
  {
   "cell_type": "code",
   "execution_count": null,
   "metadata": {},
   "outputs": [],
   "source": [
    "data['btc_trading_volume'] = df['Volume']"
   ]
  },
  {
   "cell_type": "code",
   "execution_count": null,
   "metadata": {},
   "outputs": [],
   "source": [
    "data['btc_volatility_index'] = df['High'] - df['Low']"
   ]
  },
  {
   "cell_type": "code",
   "execution_count": 31,
   "metadata": {},
   "outputs": [],
   "source": [
    "data.to_csv('data/btc_usd_with_indicators.csv')"
   ]
  },
  {
   "cell_type": "code",
   "execution_count": null,
   "metadata": {},
   "outputs": [
    {
     "name": "stdout",
     "output_type": "stream",
     "text": [
      "Initial NaN or zero values replaced and updated file saved as 'updated_file.csv'.\n"
     ]
    }
   ],
   "source": [
    "import pandas as pd\n",
    "\n",
    "# Load your CSV file\n",
    "df = pd.read_csv('data/btc_usd_with_indicators.csv')\n",
    "\n",
    "# List of columns to handle\n",
    "columns = ['SMA_14', 'EMA_14', 'RSI_14', 'MACD', 'MACD_Signal', 'MACD_Diff', \n",
    "           'BB_High', 'BB_Low', 'BB_Mid', 'BB_Width', 'ATR_14']\n",
    "\n",
    "# Replace initial NaN or zero values with the mean of the first non-null, non-zero values\n",
    "for col in columns:\n",
    "    # Calculate the first valid (non-null and non-zero) mean value\n",
    "    valid_values = df[col][(df[col].notnull()) & (df[col] != 0)]\n",
    "    if not valid_values.empty:\n",
    "        first_valid_mean = valid_values.iloc[0]\n",
    "    else:\n",
    "        first_valid_mean = 0  # Fallback in case the column is completely null or zero\n",
    "    \n",
    "    # Replace initial NaN or zero values\n",
    "    df[col] = df[col].where((df[col].notnull()) & (df[col] != 0), first_valid_mean)\n",
    "\n",
    "# Save the updated dataset to a new CSV file\n",
    "df.to_csv('../data/processed/btc_usd_with_indicators_updated.csv', index=False)\n",
    "\n",
    "print(\"Initial NaN or zero values replaced and updated file saved as 'updated_file.csv'.\")"
   ]
  }
 ],
 "metadata": {
  "kernelspec": {
   "display_name": "webscraping",
   "language": "python",
   "name": "python3"
  },
  "language_info": {
   "codemirror_mode": {
    "name": "ipython",
    "version": 3
   },
   "file_extension": ".py",
   "mimetype": "text/x-python",
   "name": "python",
   "nbconvert_exporter": "python",
   "pygments_lexer": "ipython3",
   "version": "3.11.10"
  }
 },
 "nbformat": 4,
 "nbformat_minor": 2
}
